{
 "cells": [
  {
   "cell_type": "markdown",
   "id": "940ed14e",
   "metadata": {},
   "source": [
    "# Compute drawdown\n",
    "\n",
    "Drawdown is measure, it generally indicate how the prices is fallen from it's previous peak. It denoted in the negative percentage. "
   ]
  },
  {
   "cell_type": "code",
   "execution_count": 1,
   "id": "3594cbc3",
   "metadata": {},
   "outputs": [],
   "source": [
    "\\c 25 50\n",
    "\n",
    "/ read the csv file\n",
    "\n",
    "returns : (\"J\",19#\"F\";enlist csv)0: `:./data/Portfolios_Formed_on_ME_monthly_EW.csv\n"
   ]
  },
  {
   "cell_type": "code",
   "execution_count": 2,
   "id": "574bacdd",
   "metadata": {},
   "outputs": [],
   "source": [
    "/ Change the column names \n",
    "\n",
    "returns : (`$ssr[;\" \";\"\"] each string cols returns) xcol returns"
   ]
  },
  {
   "cell_type": "code",
   "execution_count": 3,
   "id": "292eaf87",
   "metadata": {},
   "outputs": [
    {
     "data": {
      "text/plain": [
       "x      <=0    Lo30  Med40 Hi30  Lo20  Qnt2 Qnt3..\n",
       "-----------------------------------------------..\n",
       "192607 -99.99 -0.43 1.52  2.68  -0.57 0.59 1.6 ..\n",
       "192608 -99.99 3.9   3.04  2.09  3.84  3.59 3.71..\n",
       "192609 -99.99 -1.08 -0.54 0.16  -0.48 -1.4 0   ..\n",
       "192610 -99.99 -3.32 -3.52 -3.06 -3.29 -4.1 -2.8..\n",
       "192611 -99.99 -0.46 3.82  3.09  -0.55 2.18 3.41..\n"
      ]
     },
     "execution_count": 3,
     "metadata": {},
     "output_type": "execute_result"
    }
   ],
   "source": [
    "/ Column names altered\n",
    "\n",
    "5#returns"
   ]
  },
  {
   "cell_type": "code",
   "execution_count": 4,
   "id": "8d16d4b4",
   "metadata": {},
   "outputs": [],
   "source": [
    "/ Function to update the number format month column to actual month type column \n",
    "\n",
    "num2month: {if[0 > type x; x: enlist x ];\"M\"$\".\" sv' 4 cut' string x}"
   ]
  },
  {
   "cell_type": "code",
   "execution_count": 5,
   "id": "2898454f",
   "metadata": {},
   "outputs": [
    {
     "data": {
      "text/plain": [
       "Month   <=0    Lo30  Med40 Hi30  Lo20  Qnt2 Qnt..\n",
       "-----------------------------------------------..\n",
       "1926.07 -99.99 -0.43 1.52  2.68  -0.57 0.59 1.6..\n",
       "1926.08 -99.99 3.9   3.04  2.09  3.84  3.59 3.7..\n",
       "1926.09 -99.99 -1.08 -0.54 0.16  -0.48 -1.4 0  ..\n",
       "1926.10 -99.99 -3.32 -3.52 -3.06 -3.29 -4.1 -2...\n",
       "1926.11 -99.99 -0.46 3.82  3.09  -0.55 2.18 3.4..\n"
      ]
     },
     "execution_count": 5,
     "metadata": {},
     "output_type": "execute_result"
    }
   ],
   "source": [
    "/ Update the x column as month column.\n",
    "\n",
    "update x: num2month x from `returns;\n",
    "\n",
    "/ Rename the x column as Month\n",
    "returns: ((enlist `x)!enlist `Month) xcol returns \n",
    "\n",
    "/alternate `Month xcol returns. But in this way x column should be first column\n",
    "\n",
    "5#returns "
   ]
  },
  {
   "cell_type": "code",
   "execution_count": 6,
   "id": "4a12c93f",
   "metadata": {},
   "outputs": [
    {
     "data": {
      "text/plain": [
       "Month   SmallCap LargeCap\n",
       "-------------------------\n",
       "1926.07 -0.0145  0.0329  \n",
       "1926.08 0.0512   0.037   \n",
       "1926.09 0.0093   0.0067  \n",
       "1926.10 -0.0484  -0.0243 \n",
       "1926.11 -0.0078  0.027   \n",
       "1926.12 -0.0266  0.0301  \n",
       "1927.01 0.0453   -0.0043 \n",
       "1927.02 0.0685   0.0365  \n",
       "1927.03 -0.0591  0.0085  \n",
       "1927.04 0.0467   0.009   \n",
       "1927.05 0.0531   0.0525  \n",
       "1927.06 -0.0201  -0.0214 \n",
       "1927.07 0.0804   0.0785  \n",
       "1927.08 -0.0088  0.0171  \n",
       "1927.09 -0.0071  0.0534  \n",
       "1927.10 -0.0555  -0.0376 \n",
       "1927.11 0.2242   0.0656  \n",
       "1927.12 0.0449   0.0073  \n",
       "1928.01 0.1679   -0.0116 \n",
       "1928.02 -0.0155  -0.0122 \n",
       "..\n"
      ]
     },
     "execution_count": 6,
     "metadata": {},
     "output_type": "execute_result"
    }
   ],
   "source": [
    "/ Consider LargeCap and SmallCap returns i.e Lo10, Hi10\n",
    "\n",
    "rets : select Month,Lo10, Hi10 from returns\n",
    "\n",
    "/ Rename Lo10 --> SmallCap , Hi10 --> LargeCap\n",
    "\n",
    "rets : `Month`SmallCap`LargeCap xcol rets\n",
    "\n",
    "/ Divide 100 to adjest the returns in percentage\n",
    "rets: update SmallCap :SmallCap % 100, LargeCap: LargeCap % 100 \n",
    "                                                    from rets\n",
    "\n",
    "rets"
   ]
  },
  {
   "cell_type": "code",
   "execution_count": 7,
   "id": "bd1abfca",
   "metadata": {},
   "outputs": [
    {
     "data": {
      "text/plain": [
       "Month   SmallCap LargeCap\n",
       "-------------------------\n",
       "2018.08 0.0241   0.0234  \n",
       "2018.09 -0.0168  0.0087  \n",
       "2018.10 -0.1002  -0.0657 \n",
       "2018.11 -0.0365  0.0253  \n",
       "2018.12 -0.1531  -0.089  \n"
      ]
     },
     "execution_count": 7,
     "metadata": {},
     "output_type": "execute_result"
    }
   ],
   "source": [
    "-5#rets"
   ]
  },
  {
   "cell_type": "code",
   "execution_count": 8,
   "id": "ddb6f167",
   "metadata": {},
   "outputs": [
    {
     "data": {
      "text/plain": [
       "1032.9 1071.117 1078.294 1052.091 1080.498 1113..\n"
      ]
     },
     "execution_count": 8,
     "metadata": {},
     "output_type": "execute_result"
    }
   ],
   "source": [
    "/ Compute the wealth index for LargeCap\n",
    "\n",
    "/ Wealth index is nothing but your invested value over period\n",
    "/ Here I start my investment with 1000\n",
    "\n",
    "wealth_index : 1000*(prds ((rets`LargeCap) + 1))\n",
    "wealth_index"
   ]
  },
  {
   "cell_type": "code",
   "execution_count": 9,
   "id": "fdfcd92a",
   "metadata": {},
   "outputs": [
    {
     "data": {
      "text/plain": [
       "3675948f\n"
      ]
     },
     "execution_count": 9,
     "metadata": {},
     "output_type": "execute_result"
    }
   ],
   "source": [
    "last wealth_index"
   ]
  },
  {
   "cell_type": "markdown",
   "id": "4cb5a844",
   "metadata": {},
   "source": [
    "If I hold the LargeCap instrument valued at 1000 dollars from 1926 to 2018, it grows to 3,675,948 dollars."
   ]
  },
  {
   "cell_type": "code",
   "execution_count": 10,
   "id": "d9392e1e",
   "metadata": {},
   "outputs": [
    {
     "data": {
      "text/plain": [
       "1032.9 1071.117 1078.294 1078.294 1080.498 1113..\n"
      ]
     },
     "execution_count": 10,
     "metadata": {},
     "output_type": "execute_result"
    }
   ],
   "source": [
    "/ Calculate the previous peak\n",
    "\n",
    "previous_peak: maxs wealth_index\n",
    "previous_peak"
   ]
  },
  {
   "cell_type": "markdown",
   "id": "7fa84175",
   "metadata": {},
   "source": [
    "### Create visual for wealth index and Previous peak"
   ]
  },
  {
   "cell_type": "code",
   "execution_count": 11,
   "id": "b3b30734",
   "metadata": {},
   "outputs": [
    {
     "data": {
      "image/png": "[encoded data removed]",
      "text/plain": [
       "<Figure size 864x432 with 1 Axes>"
      ]
     },
     "metadata": {},
     "output_type": "display_data"
    }
   ],
   "source": [
    "/Use embedpy to create visuals, getting help from beloved python.\n",
    "\n",
    "p)import matplotlib.pyplot as plt\n",
    "p)import numpy as np\n",
    "\n",
    "/pass the month and wealth index, previous peak list to python environment\n",
    ".p.set[`months;string returns`Month]\n",
    ".p.set[`wealth_index;wealth_index]\n",
    ".p.set[`previous_peak;previous_peak]\n",
    "\n",
    "p)plt.figure(figsize=(12,6))\n",
    "p)plt.plot(months,wealth_index, color='green',label='Wealth index');\n",
    "p)plt.plot(months, previous_peak, color = 'orange', \n",
    "                label = 'previous peak');\n",
    "\n",
    "/Titles\n",
    "p)plt.title(\"Wealth index Vs Previous peak\")\n",
    "p)plt.xlabel(\"Months\")\n",
    "p)plt.ylabel(\"Returns\")\n",
    "\n",
    "p)selected_months = np.arange(0, len(months), 80)\n",
    "p)plt.xticks(selected_months, [months[i] for i in selected_months])\n",
    "\n",
    "p)plt.grid(axis='y', linestyle='--');\n",
    "p)plt.legend();\n",
    "p)plt.tight_layout();\n",
    "p)plt.show();"
   ]
  },
  {
   "cell_type": "code",
   "execution_count": 12,
   "id": "517a4470",
   "metadata": {},
   "outputs": [
    {
     "data": {
      "text/plain": [
       "-0.1273187\n"
      ]
     },
     "execution_count": 12,
     "metadata": {},
     "output_type": "execute_result"
    }
   ],
   "source": [
    "/ Calculate the drawdown\n",
    "\n",
    "/ drawdown is simply (current price - previous peak) divide by previous peak. \n",
    "/Compute it in percentage\n",
    "\n",
    "draw_down : (wealth_index - previous_peak) % previous_peak\n",
    "\n",
    "last draw_down"
   ]
  },
  {
   "cell_type": "markdown",
   "id": "efd6b89c",
   "metadata": {},
   "source": [
    "It means, last price/return is 12% lesser than it's previous peak.\n",
    "\n",
    "### Create visual for draw down\n"
   ]
  },
  {
   "cell_type": "code",
   "execution_count": 13,
   "id": "edaa7a34",
   "metadata": {},
   "outputs": [
    {
     "data": {
      "image/png": "[encoded data removed]",
      "text/plain": [
       "<Figure size 864x432 with 1 Axes>"
      ]
     },
     "metadata": {},
     "output_type": "display_data"
    }
   ],
   "source": [
    "/pass the month and returns list to python environment\n",
    ".p.set[`months;string returns`Month]\n",
    ".p.set[`draw_down;draw_down]\n",
    "\n",
    "p)plt.figure(figsize=(12,6))\n",
    "p)plt.plot(months,draw_down, color='blue',label='draw down');\n",
    "\n",
    "\n",
    "/Titles\n",
    "p)plt.title(\"Draw down\")\n",
    "p)plt.xlabel(\"Month\")\n",
    "p)plt.ylabel(\"draw down\")\n",
    "\n",
    "p)selected_months = np.arange(0, len(months), 80)\n",
    "p)plt.xticks(selected_months, [months[i] for i in selected_months])\n",
    "\n",
    "p)plt.grid(axis='y', linestyle='--');\n",
    "p)plt.legend();\n",
    "p)plt.tight_layout();\n",
    "p)plt.show();"
   ]
  },
  {
   "cell_type": "markdown",
   "id": "814ae760",
   "metadata": {},
   "source": [
    "We can see there was huge drop around 1932, yes it's Great Depression, which began in 1929 to 1932 and it's severely affected the global economy"
   ]
  },
  {
   "cell_type": "code",
   "execution_count": 14,
   "id": "053c0184",
   "metadata": {},
   "outputs": [],
   "source": [
    "/ Create a function to find the drawdown for series\n",
    "\n",
    "drawDown: {wi: 1000*(prds ((x) + 1)); pp: maxs wi; (wi-pp) % pp};"
   ]
  },
  {
   "cell_type": "code",
   "execution_count": 15,
   "id": "c7ceed99",
   "metadata": {},
   "outputs": [
    {
     "data": {
      "text/plain": [
       "Month   SmallCap LargeCap SmallCap_dd LargeCap_dd\n",
       "-------------------------------------------------\n",
       "1926.07 -0.0145  0.0329   0           0          \n",
       "1926.08 0.0512   0.037    0           0          \n",
       "1926.09 0.0093   0.0067   0           0          \n",
       "1926.10 -0.0484  -0.0243  -0.0484     -0.0243    \n",
       "1926.11 -0.0078  0.027    -0.05582248 0          \n"
      ]
     },
     "execution_count": 15,
     "metadata": {},
     "output_type": "execute_result"
    }
   ],
   "source": [
    "update SmallCap_dd: drawDown SmallCap, \n",
    "        LargeCap_dd: drawDown LargeCap from `rets;\n",
    "\n",
    "5#rets "
   ]
  },
  {
   "cell_type": "code",
   "execution_count": 16,
   "id": "fccce56b",
   "metadata": {},
   "outputs": [
    {
     "data": {
      "text/plain": [
       "Month   SmallCap LargeCap SmallCap_dd LargeCap_dd\n",
       "-------------------------------------------------\n",
       "1932.05 -0.0545  -0.2506  -0.8330008  -0.8400375 \n"
      ]
     },
     "execution_count": 16,
     "metadata": {},
     "output_type": "execute_result"
    }
   ],
   "source": [
    "select from rets where LargeCap_dd = min LargeCap_dd"
   ]
  },
  {
   "cell_type": "markdown",
   "id": "4dca7046",
   "metadata": {},
   "source": [
    "In the summer of 1932, there was one of the largest stock market crashes in history."
   ]
  },
  {
   "cell_type": "code",
   "execution_count": 17,
   "id": "c83fd2fb",
   "metadata": {},
   "outputs": [
    {
     "data": {
      "text/plain": [
       "Month   SmallCap LargeCap SmallCap_dd LargeCap_dd\n",
       "-------------------------------------------------\n",
       "2008.01 -0.0436  -0.049   -0.2086676  -0.1036643 \n",
       "2008.02 -0.0203  -0.025   -0.2247317  -0.1260727 \n",
       "2008.03 -0.044   -0.0122  -0.2588435  -0.1367346 \n",
       "2008.04 0.0027   0.0492   -0.2568424  -0.09426197\n",
       "2008.05 0.0286   0.0161   -0.2355881  -0.07967958\n",
       "2008.06 -0.0816  -0.1015  -0.2979641  -0.1730921 \n",
       "2008.07 -0.0079  -0.014   -0.3035102  -0.1846688 \n",
       "2008.08 0.011    0.0087   -0.2958488  -0.1775754 \n",
       "2008.09 -0.1274  -0.1155  -0.3855576  -0.2725655 \n",
       "2008.10 -0.2041  -0.1763  -0.5109653  -0.4008122 \n",
       "2008.11 -0.165   -0.0735  -0.591656   -0.4448525 \n",
       "2008.12 -0.0019  0.0205   -0.5924319  -0.433472  \n",
       "2009.01 0.0175   -0.0647  -0.5852995  -0.4701263 \n",
       "2009.02 -0.1107  -0.1094  -0.6312068  -0.5280945 \n",
       "2009.03 0.1231   0.113    -0.5858084  -0.4747692 \n",
       "2009.04 0.1973   0.1251   -0.5040884  -0.4090628 \n",
       "2009.05 0.137    0.081    -0.4361485  -0.3611969 \n",
       "2009.06 0.0585   -0.0103  -0.4031631  -0.3677766 \n",
       "2009.07 0.0759   0.0747   -0.3578632  -0.3205495 \n",
       "2009.08 0.1038   0.0316   -0.2912094  -0.2990788 \n",
       "..\n"
      ]
     },
     "execution_count": 17,
     "metadata": {},
     "output_type": "execute_result"
    }
   ],
   "source": [
    "/ Let's pull out 2008 market crash\n",
    "\n",
    "select from rets where Month within (2008.01m; 2009.12m)"
   ]
  },
  {
   "cell_type": "markdown",
   "id": "2b34bad9",
   "metadata": {},
   "source": [
    "The market crash started on Sep 2008 and it was bearish til 2009 summer."
   ]
  }
 ],
 "metadata": {
  "kernelspec": {
   "display_name": "Q (kdb+)",
   "language": "q",
   "name": "qpk"
  },
  "language_info": {
   "file_extension": ".q",
   "mimetype": "text/x-q",
   "name": "q",
   "version": "4.0"
  }
 },
 "nbformat": 4,
 "nbformat_minor": 5
}
