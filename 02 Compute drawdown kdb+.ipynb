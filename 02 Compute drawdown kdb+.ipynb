{
 "cells": [
  {
   "cell_type": "markdown",
   "id": "940ed14e",
   "metadata": {},
   "source": [
    "# Compute drawdown"
   ]
  },
  {
   "cell_type": "code",
   "execution_count": 18,
   "id": "3594cbc3",
   "metadata": {},
   "outputs": [],
   "source": [
    "/ read the csv file\n",
    "\n",
    "returns : (\"J\",19#\"F\";enlist csv)0: `:./data/Portfolios_Formed_on_ME_monthly_EW.csv\n"
   ]
  },
  {
   "cell_type": "code",
   "execution_count": 19,
   "id": "574bacdd",
   "metadata": {},
   "outputs": [],
   "source": [
    "/ Change the column names \n",
    "\n",
    "returns : (`$ssr[;\" \";\"\"] each string cols returns) xcol returns"
   ]
  },
  {
   "cell_type": "code",
   "execution_count": 20,
   "id": "292eaf87",
   "metadata": {},
   "outputs": [
    {
     "data": {
      "text/plain": [
       "x      <=0    Lo30  Med40 Hi30  Lo20  Qnt2  Qnt3  Qnt4  Hi20  Lo10  Dec2  Dec..\n",
       "-----------------------------------------------------------------------------..\n",
       "192607 -99.99 -0.43 1.52  2.68  -0.57 0.59  1.6   1.47  3.33  -1.45 0.29  -0...\n",
       "192608 -99.99 3.9   3.04  2.09  3.84  3.59  3.71  1.61  2.33  5.12  2.59  4.0..\n",
       "192609 -99.99 -1.08 -0.54 0.16  -0.48 -1.4  0     -0.5  -0.09 0.93  -1.87 -2...\n",
       "192610 -99.99 -3.32 -3.52 -3.06 -3.29 -4.1  -2.89 -3.36 -2.95 -4.84 -1.77 -3...\n",
       "192611 -99.99 -0.46 3.82  3.09  -0.55 2.18  3.41  3.39  3.16  -0.78 -0.32 -0...\n",
       "192612 -99.99 2.54  1.69  3.25  1.19  3.78  1.32  2.63  3.14  -2.66 4.96  5.2..\n",
       "192701 -99.99 1.86  1.32  0.23  2.61  1.26  0.74  1.22  -0.08 4.53  0.77  0.3..\n",
       "192702 -99.99 6.45  6.62  4.17  7.03  5.68  6.83  5.34  4.28  6.85  7.19  5.3..\n",
       "192703 -99.99 -3.06 -1.93 -0.61 -3.7  -1.52 -3.26 -1.09 0.19  -5.91 -1.65 -1...\n",
       "192704 -99.99 3.48  -0.15 0.05  4.85  0.02  0.11  -0.16 0.14  4.67  5.01  0.6..\n",
       "192705 -99.99 6.75  6.81  5.67  7.21  6.77  6.58  6.22  5.48  5.31  8.96  5.7..\n",
       "192706 -99.99 -2.45 -1.18 -2.9  -3.55 -0.31 -1.43 -2.18 -2.86 -2.01 -4.98 -0...\n",
       "192707 -99.99 5.95  5.03  6.8   6.68  5.12  4.39  5.92  7.08  8.04  5.31  4.5..\n",
       "192708 -99.99 -0.61 0.2   1.67  -0.61 -0.05 -0.23 1.2   1.66  -0.88 -0.34 -0...\n",
       "192709 -99.99 0.59  3.57  4.89  0.06  2.15  3.06  5.02  5.02  -0.71 0.81  1.6..\n",
       "192710 -99.99 -5.25 -2.45 -3.86 -6.51 -2.26 -2.87 -2.93 -4.01 -5.55 -7.46 -2...\n",
       "192711 -99.99 16.07 7.52  7.18  16.89 10.36 7.91  8.01  6.81  22.42 11.68 14...\n",
       "192712 -99.99 3.1   2.77  3.52  3.74  1.98  3.88  2.67  3.23  4.49  3.05  1.9..\n",
       "192801 -99.99 8.39  2.08  -0.21 10.93 2.84  2.15  1.14  -0.46 16.79 5.51  3.5..\n",
       "192802 -99.99 -1.8  -2.93 -2.13 -1.27 -3.17 -2.83 -2.85 -1.61 -1.55 -1.02 -2...\n",
       "..\n"
      ]
     },
     "execution_count": 20,
     "metadata": {},
     "output_type": "execute_result"
    }
   ],
   "source": [
    "/ Column names altered\n",
    "\n",
    "returns"
   ]
  },
  {
   "cell_type": "code",
   "execution_count": 21,
   "id": "8d16d4b4",
   "metadata": {},
   "outputs": [],
   "source": []
  },
  {
   "cell_type": "code",
   "execution_count": 24,
   "id": "4a12c93f",
   "metadata": {},
   "outputs": [
    {
     "data": {
      "text/plain": [
       "SmallCap LargeCap\n",
       "-----------------\n",
       "-0.0145  0.0329  \n",
       "0.0512   0.037   \n",
       "0.0093   0.0067  \n",
       "-0.0484  -0.0243 \n",
       "-0.0078  0.027   \n",
       "-0.0266  0.0301  \n",
       "0.0453   -0.0043 \n",
       "0.0685   0.0365  \n",
       "-0.0591  0.0085  \n",
       "0.0467   0.009   \n",
       "0.0531   0.0525  \n",
       "-0.0201  -0.0214 \n",
       "0.0804   0.0785  \n",
       "-0.0088  0.0171  \n",
       "-0.0071  0.0534  \n",
       "-0.0555  -0.0376 \n",
       "0.2242   0.0656  \n",
       "0.0449   0.0073  \n",
       "0.1679   -0.0116 \n",
       "-0.0155  -0.0122 \n",
       "..\n"
      ]
     },
     "execution_count": 24,
     "metadata": {},
     "output_type": "execute_result"
    }
   ],
   "source": [
    "/ Consider LargeCap and SmallCap returns i.e Lo10, Hi10\n",
    "\n",
    "rets : select Lo10, Hi10 from returns\n",
    "\n",
    "/ Rename Lo10 --> SmallCap , Hi10 --> LargeCap\n",
    "\n",
    "rets : `SmallCap`LargeCap xcol rets\n",
    "\n",
    "/ Divide 100 to adjest the return percentage\n",
    "\n",
    "rets: rets % 100\n",
    "\n",
    "rets"
   ]
  },
  {
   "cell_type": "code",
   "execution_count": 41,
   "id": "ddb6f167",
   "metadata": {},
   "outputs": [
    {
     "data": {
      "text/plain": [
       "1032.9 1071.117 1078.294 1052.091 1080.498 1113.021 1108.235 1148.685 1158.44..\n"
      ]
     },
     "execution_count": 41,
     "metadata": {},
     "output_type": "execute_result"
    }
   ],
   "source": [
    "/ Compute the wealth index for LargeCap\n",
    "\n",
    "/ Wealth index is nothing but you invested amount value over period\n",
    "/ Here I start my investment with 1000\n",
    "\n",
    "wealth_index : 1000*(prds ((rets`LargeCap) + 1))\n",
    "wealth_index"
   ]
  },
  {
   "cell_type": "code",
   "execution_count": 45,
   "id": "d9392e1e",
   "metadata": {},
   "outputs": [
    {
     "data": {
      "text/plain": [
       "1032.9 1071.117 1078.294 1078.294 1080.498 1113.021 1113.021 1148.685 1158.44..\n"
      ]
     },
     "execution_count": 45,
     "metadata": {},
     "output_type": "execute_result"
    }
   ],
   "source": [
    "/ Calculate the previous peak\n",
    "\n",
    "\n",
    "previous_peak: maxs wealth_index\n",
    "previous_peak"
   ]
  },
  {
   "cell_type": "code",
   "execution_count": 47,
   "id": "517a4470",
   "metadata": {},
   "outputs": [
    {
     "data": {
      "text/plain": [
       "-0.1273187\n"
      ]
     },
     "execution_count": 47,
     "metadata": {},
     "output_type": "execute_result"
    }
   ],
   "source": [
    "/ Calculate the drawdown\n",
    "\n",
    "/ drawdown is simply current price - previous peak. Compute it in percentage\n",
    "\n",
    "draw_down : (wealth_index - previous_peak) % previous_peak\n",
    "last draw_down"
   ]
  },
  {
   "cell_type": "code",
   "execution_count": null,
   "id": "c83fd2fb",
   "metadata": {},
   "outputs": [],
   "source": []
  }
 ],
 "metadata": {
  "kernelspec": {
   "display_name": "Q (kdb+)",
   "language": "q",
   "name": "qpk"
  },
  "language_info": {
   "file_extension": ".q",
   "mimetype": "text/x-q",
   "name": "q",
   "version": "4.0"
  }
 },
 "nbformat": 4,
 "nbformat_minor": 5
}
