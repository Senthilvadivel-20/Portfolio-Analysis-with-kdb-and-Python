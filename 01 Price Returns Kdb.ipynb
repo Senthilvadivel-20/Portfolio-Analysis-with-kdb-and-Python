{
 "cells": [
  {
   "cell_type": "markdown",
   "id": "bd479a84",
   "metadata": {},
   "source": [
    "### Price returns in kdb\n",
    "\n",
    "Return from time $t$ to time ${t+1} is given by:\n",
    "\n",
    "$$ R_{t,t+1} = \\frac{P_{t+1}-P_{t}}{P_{t}} $$\n",
    "\n",
    "or alternately\n",
    "\n",
    "$$ R_{t,t+1} = \\frac{P_{t+1}}{P_{t}} - 1 $$"
   ]
  },
  {
   "cell_type": "code",
   "execution_count": 45,
   "id": "0af8b7d1",
   "metadata": {},
   "outputs": [
    {
     "data": {
      "text/plain": [
       "92.40603 98.65263 85.49413 81.1505 85.12132 84.62022 81.7448 82.04886 97.3421..\n"
      ]
     },
     "execution_count": 45,
     "metadata": {},
     "output_type": "execute_result"
    }
   ],
   "source": [
    "/ create some random values as price in the range of 80 - 100\n",
    "\n",
    "p1: 80+(10?20.0)\n",
    "p1"
   ]
  },
  {
   "cell_type": "code",
   "execution_count": 46,
   "id": "fccdd3c2",
   "metadata": {},
   "outputs": [
    {
     "data": {
      "text/plain": [
       "15\n"
      ]
     },
     "execution_count": 46,
     "metadata": {},
     "output_type": "execute_result"
    },
    {
     "data": {
      "text/plain": [
       "39\n"
      ]
     },
     "execution_count": 46,
     "metadata": {},
     "output_type": "execute_result"
    }
   ],
   "source": [
    "/ calculate the return\n",
    "\n",
    "/ Use prev methods\n",
    "\\t:10000 (p1 % prev p1) - 1 \n",
    "\n",
    "/ Use prior\n",
    "\\t:10000 prior[{(x%y)-1};p1]"
   ]
  },
  {
   "cell_type": "code",
   "execution_count": 47,
   "id": "991e2810",
   "metadata": {},
   "outputs": [
    {
     "data": {
      "text/plain": [
       "8\n"
      ]
     },
     "execution_count": 47,
     "metadata": {},
     "output_type": "execute_result"
    }
   ],
   "source": [
    "/ Use deltas method\n",
    "\n",
    "\\t:10000 (deltas p1) % prev p1\n",
    "\n",
    "/ Prev method is better than others"
   ]
  },
  {
   "cell_type": "code",
   "execution_count": null,
   "id": "8deafd4d",
   "metadata": {},
   "outputs": [],
   "source": []
  },
  {
   "cell_type": "code",
   "execution_count": 48,
   "id": "acd2ad01",
   "metadata": {},
   "outputs": [
    {
     "data": {
      "text/plain": [
       "AAPL     META     AAPL_CHANGES META_CHANGES date      \n",
       "------------------------------------------------------\n",
       "99.75569 93.76951 0.130423     0.1262885    2024.09.27\n",
       "87.73471 96.35509 -0.1205042   0.0275738    2024.09.28\n",
       "94.53562 95.0402  0.0775168    -0.01364629  2024.09.29\n",
       "88.09309 82.17365 -0.06814921  -0.1353801   2024.09.30\n",
       "96.71013 99.19793 0.09781741   0.2071744    2024.10.01\n",
       "92.85474 80.73367 -0.03986542  -0.1861355   2024.10.02\n",
       "91.66052 92.86196 -0.01286113  0.150226     2024.10.03\n",
       "82.84987 93.41748 -0.09612266  0.005982115  2024.10.04\n",
       "98.29976 93.57816 0.1864806    0.001720122  2024.10.05\n"
      ]
     },
     "execution_count": 48,
     "metadata": {},
     "output_type": "execute_result"
    }
   ],
   "source": [
    "/ Create table \n",
    "t: ([] AAPL: 80+10?20.0;META:80+10?20.0)\n",
    "\n",
    "\n",
    "/update the CHANGES columns\n",
    "update AAPL_CHANGES:(AAPL % prev AAPL)-1, META_CHANGES:(META % prev META)-1 from `t;\n",
    "\n",
    "/update the date sake of date columns\n",
    "\n",
    "update date:.z.d - reverse til 10 from `t;\n",
    "\n",
    "/remove the first row\n",
    "t : 1_t;\n",
    "\n",
    "t"
   ]
  },
  {
   "cell_type": "code",
   "execution_count": 49,
   "id": "060e19fd",
   "metadata": {},
   "outputs": [],
   "source": [
    "/ Get the changes column only and save it in tv variable\n",
    "\n",
    "tv:: select AAPL_CHANGES, META_CHANGES from t"
   ]
  },
  {
   "cell_type": "code",
   "execution_count": 50,
   "id": "cde2eb41",
   "metadata": {},
   "outputs": [
    {
     "data": {
      "text/plain": [
       "AAPL_CHANGES| 0.1139245\n",
       "META_CHANGES| 0.1239902\n"
      ]
     },
     "execution_count": 50,
     "metadata": {},
     "output_type": "execute_result"
    }
   ],
   "source": [
    "/ Annual returns in percentage\n",
    "\n",
    "(prd tv+1)-1"
   ]
  },
  {
   "cell_type": "code",
   "execution_count": 51,
   "id": "51bcdd8d",
   "metadata": {},
   "outputs": [
    {
     "data": {
      "text/plain": [
       "0.1239902\n"
      ]
     },
     "execution_count": 51,
     "metadata": {},
     "output_type": "execute_result"
    }
   ],
   "source": [
    "/ Annual return of meta\n",
    "\n",
    "(prd(1+t`META_CHANGES))-1"
   ]
  },
  {
   "cell_type": "code",
   "execution_count": null,
   "id": "1dd5dcf6",
   "metadata": {},
   "outputs": [],
   "source": []
  },
  {
   "cell_type": "code",
   "execution_count": null,
   "id": "1e38e205",
   "metadata": {},
   "outputs": [],
   "source": []
  },
  {
   "cell_type": "code",
   "execution_count": null,
   "id": "e2f5a0e1",
   "metadata": {},
   "outputs": [],
   "source": []
  },
  {
   "cell_type": "markdown",
   "id": "2acc93a8",
   "metadata": {},
   "source": [
    "# Volatility\n",
    "\n",
    "`Volatility denotes fluctuation that happens in prices changes. `\n",
    "\n",
    "`In statistics terms we can call it as standard(Population) deviation.`"
   ]
  },
  {
   "cell_type": "code",
   "execution_count": 52,
   "id": "e23af935",
   "metadata": {},
   "outputs": [
    {
     "data": {
      "text/plain": [
       "BLUE   ORANGE \n",
       "--------------\n",
       "8.7    10.66  \n",
       "8.9055 11.0828\n",
       "8.7113 10.71  \n",
       "8.4346 11.5907\n",
       "8.7254 12.107 \n"
      ]
     },
     "execution_count": 52,
     "metadata": {},
     "output_type": "execute_result"
    }
   ],
   "source": [
    "t: (\"FF\";enlist csv)0: read0 `:./data/sample_prices.csv\n",
    "5#t"
   ]
  },
  {
   "cell_type": "code",
   "execution_count": 53,
   "id": "c5678625",
   "metadata": {},
   "outputs": [
    {
     "data": {
      "text/plain": [
       "BLUE  | 0.3784187\n",
       "ORANGE| 1.010706\n"
      ]
     },
     "execution_count": 53,
     "metadata": {},
     "output_type": "execute_result"
    }
   ],
   "source": [
    "/ Find the population standard deviation\n",
    "\n",
    "dev each flip t"
   ]
  },
  {
   "cell_type": "code",
   "execution_count": 54,
   "id": "f53a507b",
   "metadata": {},
   "outputs": [
    {
     "data": {
      "text/plain": [
       "BLUE        ORANGE     \n",
       "-----------------------\n",
       "0.02362069  0.03966229 \n",
       "-0.02180675 -0.03363771\n",
       "-0.03176334 0.08223156 \n",
       "0.03447704  0.04454433 \n",
       "0.03778623  -0.02638143\n",
       "-0.01145211 -0.04918728\n",
       "0.03267645  0.1170078  \n",
       "-0.01258127 0.06735255 \n",
       "0.02958061  0.07824942 \n",
       "0.006150507 -0.1682607 \n",
       "0.01216236  0.02404099 \n",
       "0.02114854  -0.05562346\n"
      ]
     },
     "execution_count": 54,
     "metadata": {},
     "output_type": "execute_result"
    }
   ],
   "source": [
    "/ Find the returns over period\n",
    "\n",
    "update BLUE:(BLUE % prev BLUE)-1, ORANGE:(ORANGE % prev ORANGE)-1 from `t;\n",
    "delete from `t where i =0;\n",
    "t"
   ]
  },
  {
   "cell_type": "code",
   "execution_count": 55,
   "id": "20c26793",
   "metadata": {},
   "outputs": [
    {
     "data": {
      "text/plain": [
       "BLUE  | 0.02295663\n",
       "ORANGE| 0.07621241\n"
      ]
     },
     "execution_count": 55,
     "metadata": {},
     "output_type": "execute_result"
    }
   ],
   "source": [
    "/ Lets compute the standard deviation\n",
    "\n",
    "(dev each flip t)"
   ]
  },
  {
   "cell_type": "code",
   "execution_count": 56,
   "id": "1d5ee5e9",
   "metadata": {},
   "outputs": [
    {
     "data": {
      "text/plain": [
       "0.02295663\n"
      ]
     },
     "execution_count": 56,
     "metadata": {},
     "output_type": "execute_result"
    }
   ],
   "source": [
    "/ with formula\n",
    "\n",
    "avrg: avg t`BLUE\n",
    "\n",
    "sqrt avg (((t`BLUE) - avrg) xexp 2)"
   ]
  },
  {
   "cell_type": "code",
   "execution_count": 57,
   "id": "b301110f",
   "metadata": {},
   "outputs": [
    {
     "data": {
      "text/plain": [
       "BLUE  | 0.0795241\n",
       "ORANGE| 0.2640075\n"
      ]
     },
     "execution_count": 57,
     "metadata": {},
     "output_type": "execute_result"
    }
   ],
   "source": [
    "/ Compute the annualize volatility\n",
    "\n",
    "(dev each flip t)*sqrt(12)"
   ]
  },
  {
   "cell_type": "markdown",
   "id": "27e049fa",
   "metadata": {},
   "source": [
    "# Risk Adjusted Returns"
   ]
  },
  {
   "cell_type": "code",
   "execution_count": 58,
   "id": "3b072041",
   "metadata": {},
   "outputs": [
    {
     "data": {
      "text/plain": [
       "x      <= 0   Lo 30 Med 40 Hi 30 Lo 20 Qnt 2 Qnt 3 Qnt 4 Hi 20 Lo 10 Dec 2 De..\n",
       "-----------------------------------------------------------------------------..\n",
       "192607 -99.99 -0.43 1.52   2.68  -0.57 0.59  1.6   1.47  3.33  -1.45 0.29  -0..\n",
       "192608 -99.99 3.9   3.04   2.09  3.84  3.59  3.71  1.61  2.33  5.12  2.59  4...\n",
       "192609 -99.99 -1.08 -0.54  0.16  -0.48 -1.4  0     -0.5  -0.09 0.93  -1.87 -2..\n",
       "192610 -99.99 -3.32 -3.52  -3.06 -3.29 -4.1  -2.89 -3.36 -2.95 -4.84 -1.77 -3..\n",
       "192611 -99.99 -0.46 3.82   3.09  -0.55 2.18  3.41  3.39  3.16  -0.78 -0.32 -0..\n"
      ]
     },
     "execution_count": 58,
     "metadata": {},
     "output_type": "execute_result"
    }
   ],
   "source": [
    "/ Read the csv from source\n",
    "\n",
    "returns : (\"J\",19#\"F\";enlist csv)0: `:./data/Portfolios_Formed_on_ME_monthly_EW.csv\n",
    "\n",
    "/return header 5 rows\n",
    "\n",
    "5#returns"
   ]
  },
  {
   "cell_type": "code",
   "execution_count": 59,
   "id": "bb31c3eb",
   "metadata": {},
   "outputs": [
    {
     "data": {
      "text/plain": [
       "x      <=0    Lo30  Med40 Hi30  Lo20  Qnt2 Qnt3  Qnt4  Hi20  Lo10  Dec2  Dec3..\n",
       "-----------------------------------------------------------------------------..\n",
       "192607 -99.99 -0.43 1.52  2.68  -0.57 0.59 1.6   1.47  3.33  -1.45 0.29  -0.1..\n",
       "192608 -99.99 3.9   3.04  2.09  3.84  3.59 3.71  1.61  2.33  5.12  2.59  4.03..\n",
       "192609 -99.99 -1.08 -0.54 0.16  -0.48 -1.4 0     -0.5  -0.09 0.93  -1.87 -2.2..\n",
       "192610 -99.99 -3.32 -3.52 -3.06 -3.29 -4.1 -2.89 -3.36 -2.95 -4.84 -1.77 -3.3..\n",
       "192611 -99.99 -0.46 3.82  3.09  -0.55 2.18 3.41  3.39  3.16  -0.78 -0.32 -0.2..\n"
      ]
     },
     "execution_count": 59,
     "metadata": {},
     "output_type": "execute_result"
    }
   ],
   "source": [
    "/ Chenge the columns name. Kdb doesn't recognize the column name with space\n",
    "\n",
    "returns : (`$ ssr[;\" \";\"\"] each string cols returns) xcol returns\n",
    "5#returns"
   ]
  },
  {
   "cell_type": "code",
   "execution_count": 60,
   "id": "1a9cfb3a",
   "metadata": {},
   "outputs": [],
   "source": [
    "/ Focus on Lo10 and Hi10 columns\n",
    "\n",
    "returns: select Lo10, Hi10 from returns"
   ]
  },
  {
   "cell_type": "code",
   "execution_count": 61,
   "id": "f21643a6",
   "metadata": {},
   "outputs": [],
   "source": [
    "/ Devide the values with 100\n",
    "\n",
    "returns : returns%100"
   ]
  },
  {
   "cell_type": "code",
   "execution_count": 62,
   "id": "692c2ab2",
   "metadata": {},
   "outputs": [],
   "source": [
    "/ Rename Lo10 as SmallCap and Hi10 as Largecap\n",
    "\n",
    "returns : `SmallCap`LargeCap xcol returns "
   ]
  },
  {
   "cell_type": "code",
   "execution_count": 63,
   "id": "feb67c11",
   "metadata": {},
   "outputs": [
    {
     "data": {
      "text/plain": [
       "SmallCap LargeCap\n",
       "-----------------\n",
       "-0.0145  0.0329  \n",
       "0.0512   0.037   \n",
       "0.0093   0.0067  \n",
       "-0.0484  -0.0243 \n",
       "-0.0078  0.027   \n",
       "-0.0266  0.0301  \n",
       "0.0453   -0.0043 \n",
       "0.0685   0.0365  \n",
       "-0.0591  0.0085  \n",
       "0.0467   0.009   \n",
       "0.0531   0.0525  \n",
       "-0.0201  -0.0214 \n",
       "0.0804   0.0785  \n",
       "-0.0088  0.0171  \n",
       "-0.0071  0.0534  \n",
       "-0.0555  -0.0376 \n",
       "0.2242   0.0656  \n",
       "0.0449   0.0073  \n",
       "0.1679   -0.0116 \n",
       "-0.0155  -0.0122 \n",
       "..\n"
      ]
     },
     "execution_count": 63,
     "metadata": {},
     "output_type": "execute_result"
    }
   ],
   "source": [
    "returns"
   ]
  },
  {
   "cell_type": "code",
   "execution_count": 64,
   "id": "96e70493",
   "metadata": {},
   "outputs": [
    {
     "data": {
      "text/plain": [
       "SmallCap| 0.3680272\n",
       "LargeCap| 0.1866319\n"
      ]
     },
     "execution_count": 64,
     "metadata": {},
     "output_type": "execute_result"
    }
   ],
   "source": [
    "/Annualize volatility\n",
    "\n",
    "annualized_vol: (dev each flip returns)*sqrt(12)\n",
    "annualized_vol"
   ]
  },
  {
   "cell_type": "code",
   "execution_count": 65,
   "id": "7650c24c",
   "metadata": {},
   "outputs": [
    {
     "data": {
      "text/plain": [
       "SmallCap| 0.01298637\n",
       "LargeCap| 0.007423424\n"
      ]
     },
     "execution_count": 65,
     "metadata": {},
     "output_type": "execute_result"
    }
   ],
   "source": [
    "/ Annualize returns per month\n",
    "\n",
    "((prd(returns + 1)) xexp (1%count returns))-1"
   ]
  },
  {
   "cell_type": "code",
   "execution_count": 66,
   "id": "16b46135",
   "metadata": {},
   "outputs": [
    {
     "data": {
      "text/plain": [
       "SmallCap| 0.1674633\n",
       "LargeCap| 0.09280968\n"
      ]
     },
     "execution_count": 66,
     "metadata": {},
     "output_type": "execute_result"
    }
   ],
   "source": [
    "\n",
    "/ Annualize returns\n",
    "\n",
    "annualized_return: ((prd(returns + 1)) xexp (12%count returns))-1\n",
    "annualized_return"
   ]
  },
  {
   "cell_type": "code",
   "execution_count": 67,
   "id": "42eacb3d",
   "metadata": {},
   "outputs": [
    {
     "data": {
      "text/plain": [
       "SmallCap| 0.373514\n",
       "LargeCap| 0.3365432\n"
      ]
     },
     "execution_count": 67,
     "metadata": {},
     "output_type": "execute_result"
    }
   ],
   "source": [
    "/ Find the sharpe ratio\n",
    "\n",
    "/ sharpe ratio is adjusted return with risk free rate and volatility\n",
    "\n",
    "riskfree_rate : 0.03\n",
    "excess_return : annualized_return - riskfree_rate\n",
    "sharpe_ratio : excess_return%annualized_vol\n",
    "sharpe_ratio"
   ]
  },
  {
   "cell_type": "code",
   "execution_count": 2,
   "id": "3d6c6abd",
   "metadata": {},
   "outputs": [
    {
     "data": {
      "text/plain": [
       "{[f;x]embedPy[f;x]}[foreign]enlist\n"
      ]
     },
     "execution_count": 2,
     "metadata": {},
     "output_type": "execute_result"
    }
   ],
   "source": [
    ".p.import[`pandas]"
   ]
  },
  {
   "cell_type": "code",
   "execution_count": 2,
   "id": "6b031250",
   "metadata": {},
   "outputs": [
    {
     "ename": "\u001b[0;31meval: invalid syntax (, line 1)\u001b[0m",
     "evalue": "\u001b[0;31meval: invalid syntax (, line 1)\u001b[0m",
     "output_type": "error",
     "traceback": [
      "\u001b[0;31mevaluation error:\n\u001b[0m",
      "\u001b[0;31meval: invalid syntax (, line 1)\u001b[0m",
      "\u001b[0;31m\u001b[0m",
      "\u001b[0;31m  [1]  /home/senthil/anaconda3/envs/kdb/q/p.q:45: .p.wfunc:{[f;x]r:wrap f x 0;$[count x:1_x;.[;x];]r}\n                                                                        ^\n\u001b[0m",
      "\u001b[0;31m  [0]  .p.eval\"pandas.DataFrame('a':[1,2,3,5])\"\n       ^\n\u001b[0m"
     ]
    }
   ],
   "source": [
    ".p.eval\"pandas.DataFrame('a':[1,2,3,5])\""
   ]
  },
  {
   "cell_type": "code",
   "execution_count": null,
   "id": "e961410b",
   "metadata": {},
   "outputs": [],
   "source": []
  }
 ],
 "metadata": {
  "kernelspec": {
   "display_name": "Q (kdb+)",
   "language": "q",
   "name": "qpk"
  },
  "language_info": {
   "file_extension": ".q",
   "mimetype": "text/x-q",
   "name": "q",
   "version": "4.0"
  }
 },
 "nbformat": 4,
 "nbformat_minor": 5
}
