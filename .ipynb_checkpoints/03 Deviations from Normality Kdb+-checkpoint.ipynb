{
 "cells": [
  {
   "cell_type": "markdown",
   "id": "023aae53",
   "metadata": {},
   "source": [
    "## Load the data set"
   ]
  },
  {
   "cell_type": "code",
   "execution_count": 54,
   "id": "391d8715",
   "metadata": {},
   "outputs": [
    {
     "data": {
      "text/plain": [
       "date         Convertible Arbitrage CTA Global Distressed Securities Emerging ..\n",
       "-----------------------------------------------------------------------------..\n",
       "\"31/01/1997\" 0.0119                0.0393     0.0178                0.0791   ..\n",
       "\"28/02/1997\" 0.0123                0.0298     0.0122                0.0525   ..\n",
       "\"31/03/1997\" 0.0078                -0.0021    -0.0012               -0.012   ..\n",
       "\"30/04/1997\" 0.0086                -0.017     0.003                 0.0119   ..\n",
       "\"31/05/1997\" 0.0156                -0.0015    0.0233                0.0315   ..\n"
      ]
     },
     "execution_count": 54,
     "metadata": {},
     "output_type": "execute_result"
    }
   ],
   "source": [
    "/read the csv\n",
    "\n",
    "hfi : (\"*FFFFFFFFFFFFF\";enlist csv)0: `:./data/edhec_hedgefundindices.csv\n",
    "\n",
    "/ Devide by 100\n",
    "\n",
    "hfi : (select date from hfi)^(delete date from hfi) % 100\n",
    "\n",
    "5#hfi"
   ]
  },
  {
   "cell_type": "code",
   "execution_count": null,
   "id": "46c5e7c4",
   "metadata": {},
   "outputs": [],
   "source": []
  },
  {
   "cell_type": "code",
   "execution_count": 55,
   "id": "f6b40c81",
   "metadata": {},
   "outputs": [],
   "source": [
    "/ Convert the date type to month\n",
    "\n",
    "/it can handle string and list type\n",
    "\n",
    "str2month:{if[10h=type x;x:enlist x]; `month$\"D\"$\".\"sv'reverse@/:\"/\"vs/:x}"
   ]
  },
  {
   "cell_type": "code",
   "execution_count": 56,
   "id": "7e311b93",
   "metadata": {},
   "outputs": [
    {
     "data": {
      "text/plain": [
       "1997.01 1997.02 1997.03 1997.04 1997.05 1997.06 1997.07 1997.08 1997.09 1997...\n"
      ]
     },
     "execution_count": 56,
     "metadata": {},
     "output_type": "execute_result"
    }
   ],
   "source": [
    "str2month hfi.date"
   ]
  },
  {
   "cell_type": "code",
   "execution_count": 57,
   "id": "e500b53d",
   "metadata": {},
   "outputs": [
    {
     "data": {
      "text/plain": [
       "`hfi\n"
      ]
     },
     "execution_count": 57,
     "metadata": {},
     "output_type": "execute_result"
    }
   ],
   "source": [
    "/update the date column as month type\n",
    "\n",
    "update date: str2month date from `hfi"
   ]
  },
  {
   "cell_type": "code",
   "execution_count": 58,
   "id": "4762419f",
   "metadata": {},
   "outputs": [
    {
     "data": {
      "text/plain": [
       "c                     | t f a\n",
       "----------------------| -----\n",
       "date                  | m    \n",
       "Convertible Arbitrage | f    \n",
       "CTA Global            | f    \n",
       "Distressed Securities | f    \n",
       "Emerging Markets      | f    \n",
       "Equity Market Neutral | f    \n",
       "Event Driven          | f    \n",
       "Fixed Income Arbitrage| f    \n",
       "Global Macro          | f    \n",
       "Long/Short Equity     | f    \n",
       "Merger Arbitrage      | f    \n",
       "Relative Value        | f    \n",
       "Short Selling         | f    \n",
       "Funds Of Funds        | f    \n"
      ]
     },
     "execution_count": 58,
     "metadata": {},
     "output_type": "execute_result"
    }
   ],
   "source": [
    "meta hfi"
   ]
  },
  {
   "cell_type": "code",
   "execution_count": 59,
   "id": "785facf7",
   "metadata": {},
   "outputs": [
    {
     "data": {
      "text/plain": [
       "c                     | t f a\n",
       "----------------------| -----\n",
       "date                  | m    \n",
       "Convertible_Arbitrage | f    \n",
       "CTA_Global            | f    \n",
       "Distressed_Securities | f    \n",
       "Emerging_Markets      | f    \n",
       "Equity_Market_Neutral | f    \n",
       "Event_Driven          | f    \n",
       "Fixed_Income_Arbitrage| f    \n",
       "Global_Macro          | f    \n",
       "Long_Short_Equity     | f    \n",
       "Merger_Arbitrage      | f    \n",
       "Relative_Value        | f    \n",
       "Short_Selling         | f    \n",
       "Funds_Of_Funds        | f    \n"
      ]
     },
     "execution_count": 59,
     "metadata": {},
     "output_type": "execute_result"
    }
   ],
   "source": [
    "/ Remove the special char and space and replace with underscore\n",
    "\n",
    "hfi : (`$(ssr/[;(\" \";\"/\");\"_\"] each string cols hfi)) xcol hfi;\n",
    "\n",
    "meta hfi"
   ]
  },
  {
   "cell_type": "markdown",
   "id": "d5b07703",
   "metadata": {},
   "source": [
    "## Skewness\n",
    "\n",
    "Intuitively, a negative skew means that you get more negative returns than you would have expected if the returns were distributed like the normal distribution.\n",
    "\n",
    "Another way of thinking about it is if that returns are normally distributed, the mean and the median would be very close.\n",
    "\n",
    "However, if they are negatively skewed, the expected value i.e. the mean is less than the median. If they are positively skewed, the expected value (again, the mean) is greater than the median."
   ]
  },
  {
   "cell_type": "code",
   "execution_count": 73,
   "id": "97bc015d",
   "metadata": {},
   "outputs": [
    {
     "data": {
      "text/plain": [
       "hfi                    mean        median \n",
       "------------------------------------------\n",
       "Convertible_Arbitrage  0.005508365 0.0065 \n",
       "CTA_Global             0.004073764 -0.0204\n",
       "Distressed_Securities  0.006946008 0.0091 \n",
       "Emerging_Markets       0.006253232 -0.0133\n",
       "Equity_Market_Neutral  0.004498099 0.0023 \n",
       "Event_Driven           0.006344487 0.0058 \n",
       "Fixed_Income_Arbitrage 0.004365019 0.0061 \n",
       "Global_Macro           0.005403042 -0.0061\n",
       "Long_Short_Equity      0.006330798 0.0033 \n",
       "Merger_Arbitrage       0.005355894 0.0024 \n",
       "Relative_Value         0.005792015 0.0055 \n",
       "Short_Selling          -0.00170076 -0.0123\n",
       "Funds_Of_Funds         0.004262357 0.0001 \n"
      ]
     },
     "execution_count": 73,
     "metadata": {},
     "output_type": "execute_result"
    }
   ],
   "source": [
    "hfi_skw:([] hfi: key mn:avg (delete date from hfi); mean: value mn; median: value med (delete date from hfi))\n",
    "\n",
    "hfi_skw"
   ]
  },
  {
   "cell_type": "code",
   "execution_count": 74,
   "id": "77665e62",
   "metadata": {},
   "outputs": [
    {
     "data": {
      "text/plain": [
       "hfi                    mean        median  skewness_type\n",
       "--------------------------------------------------------\n",
       "Convertible_Arbitrage  0.005508365 0.0065  negative     \n",
       "CTA_Global             0.004073764 -0.0204 positive     \n",
       "Distressed_Securities  0.006946008 0.0091  negative     \n",
       "Emerging_Markets       0.006253232 -0.0133 positive     \n",
       "Equity_Market_Neutral  0.004498099 0.0023  positive     \n",
       "Event_Driven           0.006344487 0.0058  positive     \n",
       "Fixed_Income_Arbitrage 0.004365019 0.0061  negative     \n",
       "Global_Macro           0.005403042 -0.0061 positive     \n",
       "Long_Short_Equity      0.006330798 0.0033  positive     \n",
       "Merger_Arbitrage       0.005355894 0.0024  positive     \n",
       "Relative_Value         0.005792015 0.0055  positive     \n",
       "Short_Selling          -0.00170076 -0.0123 positive     \n",
       "Funds_Of_Funds         0.004262357 0.0001  positive     \n"
      ]
     },
     "execution_count": 74,
     "metadata": {},
     "output_type": "execute_result"
    }
   ],
   "source": [
    "update skewness_type:(`positive`negative) mean < median from `hfi_skw;\n",
    "hfi_skw"
   ]
  },
  {
   "cell_type": "markdown",
   "id": "753405d9",
   "metadata": {},
   "source": [
    "Now, let's develop the code to compute the skewness of a series of numbers.\n",
    "\n",
    "\n",
    "$$ S(R) = \\frac{E[ (R-E(R))^3 ]}{\\sigma_R^3} $$\n"
   ]
  },
  {
   "cell_type": "code",
   "execution_count": 80,
   "id": "1a1f57a4",
   "metadata": {},
   "outputs": [],
   "source": [
    "skewness: {[r] (avg((r-avg r) xexp 3)) % (dev r) xexp 3}"
   ]
  },
  {
   "cell_type": "code",
   "execution_count": 84,
   "id": "9ddc3e5b",
   "metadata": {},
   "outputs": [
    {
     "data": {
      "text/plain": [
       "hfi                    mean        median  skewness_type skewness  \n",
       "-------------------------------------------------------------------\n",
       "Convertible_Arbitrage  0.005508365 0.0065  negative      -2.639592 \n",
       "CTA_Global             0.004073764 -0.0204 positive      0.1736986 \n",
       "Distressed_Securities  0.006946008 0.0091  negative      -1.300842 \n",
       "Emerging_Markets       0.006253232 -0.0133 positive      -1.167067 \n",
       "Equity_Market_Neutral  0.004498099 0.0023  positive      -2.124435 \n",
       "Event_Driven           0.006344487 0.0058  positive      -1.409154 \n",
       "Fixed_Income_Arbitrage 0.004365019 0.0061  negative      -3.94032  \n",
       "Global_Macro           0.005403042 -0.0061 positive      0.9829219 \n",
       "Long_Short_Equity      0.006330798 0.0033  positive      -0.3902268\n",
       "Merger_Arbitrage       0.005355894 0.0024  positive      -1.320083 \n",
       "Relative_Value         0.005792015 0.0055  positive      -1.81547  \n",
       "Short_Selling          -0.00170076 -0.0123 positive      0.7679748 \n",
       "Funds_Of_Funds         0.004262357 0.0001  positive      -0.3617831\n"
      ]
     },
     "execution_count": 84,
     "metadata": {},
     "output_type": "execute_result"
    }
   ],
   "source": [
    "skewness_value: value (skewness each flip (delete date from hfi))\n",
    "\n",
    "update skewness: skewness_value from `hfi_skw;\n",
    "\n",
    "hfi_skw"
   ]
  },
  {
   "cell_type": "code",
   "execution_count": null,
   "id": "9a800876",
   "metadata": {},
   "outputs": [],
   "source": []
  },
  {
   "cell_type": "markdown",
   "id": "bc7ec44a",
   "metadata": {},
   "source": [
    "# Kurtosis\n",
    "\n",
    "The kurtosis simply means the fatness of the distribution.\n",
    "\n",
    "value < 3 --> Thinner tails\n",
    "\n",
    "value > 3 --> Fatter tails\n",
    "\n",
    "$$ K(R) = \\frac{E[ (R-E(R))^4 ]}{\\sigma_R^4} $$\n",
    "\n",
    "This is almost similar to skewness. So edit the power of 4 part.\n"
   ]
  },
  {
   "cell_type": "code",
   "execution_count": 85,
   "id": "f05e85d3",
   "metadata": {},
   "outputs": [],
   "source": [
    "/calculate the kurtosis\n",
    "\n",
    "kurtosis: {[r] (avg ((r-avg r) xexp 4))%(dev r) xexp 4}"
   ]
  },
  {
   "cell_type": "code",
   "execution_count": 88,
   "id": "255f77a1",
   "metadata": {},
   "outputs": [
    {
     "data": {
      "text/plain": [
       "Convertible_Arbitrage | 23.28083\n",
       "CTA_Global            | 2.95296\n",
       "Distressed_Securities | 7.889983\n",
       "Emerging_Markets      | 9.250788\n",
       "Equity_Market_Neutral | 17.21856\n",
       "Event_Driven          | 8.035828\n",
       "Fixed_Income_Arbitrage| 29.8422\n",
       "Global_Macro          | 5.741679\n",
       "Long_Short_Equity     | 4.523893\n",
       "Merger_Arbitrage      | 8.73895\n",
       "Relative_Value        | 12.12121\n",
       "Short_Selling         | 6.117772\n",
       "Funds_Of_Funds        | 7.070153\n"
      ]
     },
     "execution_count": 88,
     "metadata": {},
     "output_type": "execute_result"
    }
   ],
   "source": [
    "kurtosis_value: kurtosis each flip delete date from hfi\n",
    "kurtosis_value"
   ]
  },
  {
   "cell_type": "code",
   "execution_count": 89,
   "id": "930c5e7d",
   "metadata": {},
   "outputs": [
    {
     "data": {
      "text/plain": [
       "hfi                    mean        median  skewness_type skewness   kurtosis\n",
       "----------------------------------------------------------------------------\n",
       "Convertible_Arbitrage  0.005508365 0.0065  negative      -2.639592  23.28083\n",
       "CTA_Global             0.004073764 -0.0204 positive      0.1736986  2.95296 \n",
       "Distressed_Securities  0.006946008 0.0091  negative      -1.300842  7.889983\n",
       "Emerging_Markets       0.006253232 -0.0133 positive      -1.167067  9.250788\n",
       "Equity_Market_Neutral  0.004498099 0.0023  positive      -2.124435  17.21856\n",
       "Event_Driven           0.006344487 0.0058  positive      -1.409154  8.035828\n",
       "Fixed_Income_Arbitrage 0.004365019 0.0061  negative      -3.94032   29.8422 \n",
       "Global_Macro           0.005403042 -0.0061 positive      0.9829219  5.741679\n",
       "Long_Short_Equity      0.006330798 0.0033  positive      -0.3902268 4.523893\n",
       "Merger_Arbitrage       0.005355894 0.0024  positive      -1.320083  8.73895 \n",
       "Relative_Value         0.005792015 0.0055  positive      -1.81547   12.12121\n",
       "Short_Selling          -0.00170076 -0.0123 positive      0.7679748  6.117772\n",
       "Funds_Of_Funds         0.004262357 0.0001  positive      -0.3617831 7.070153\n"
      ]
     },
     "execution_count": 89,
     "metadata": {},
     "output_type": "execute_result"
    }
   ],
   "source": [
    "update kurtosis: value kurtosis_value from `hfi_skw;\n",
    "\n",
    "hfi_skw"
   ]
  },
  {
   "cell_type": "code",
   "execution_count": null,
   "id": "3850b06e",
   "metadata": {},
   "outputs": [],
   "source": []
  }
 ],
 "metadata": {
  "kernelspec": {
   "display_name": "Q (kdb+)",
   "language": "q",
   "name": "qpk"
  },
  "language_info": {
   "file_extension": ".q",
   "mimetype": "text/x-q",
   "name": "q",
   "version": "4.0"
  }
 },
 "nbformat": 4,
 "nbformat_minor": 5
}
