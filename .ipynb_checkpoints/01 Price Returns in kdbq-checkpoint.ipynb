{
 "cells": [
  {
   "cell_type": "markdown",
   "id": "bd479a84",
   "metadata": {},
   "source": [
    "### Price returns and Volatility in kdb+/q\n",
    "\n",
    "Return from time $t$ to time ${t+1} is given by:\n",
    "\n",
    "$$ R_{t,t+1} = \\frac{P_{t+1}-P_{t}}{P_{t}} $$\n",
    "\n",
    "or alternately\n",
    "\n",
    "$$ R_{t,t+1} = \\frac{P_{t+1}}{P_{t}} - 1 $$"
   ]
  },
  {
   "cell_type": "code",
   "execution_count": 32,
   "id": "0af8b7d1",
   "metadata": {},
   "outputs": [
    {
     "data": {
      "text/plain": [
       "97.33113 92.82995 98.16542 99.59219 86.15498 87.30455 99.18235 88.24373 92.66..\n"
      ]
     },
     "execution_count": 32,
     "metadata": {},
     "output_type": "execute_result"
    }
   ],
   "source": [
    "/ create some random values as price in the range of 80 - 100\n",
    "\n",
    "p1: 80+(12?20.0)\n",
    "p1"
   ]
  },
  {
   "cell_type": "code",
   "execution_count": 33,
   "id": "fccdd3c2",
   "metadata": {},
   "outputs": [
    {
     "data": {
      "text/plain": [
       "20\n"
      ]
     },
     "execution_count": 33,
     "metadata": {},
     "output_type": "execute_result"
    },
    {
     "data": {
      "text/plain": [
       "41\n"
      ]
     },
     "execution_count": 33,
     "metadata": {},
     "output_type": "execute_result"
    }
   ],
   "source": [
    "/ calculate the return\n",
    "\n",
    "/ Use prev methods\n",
    "\\t:10000 (p1 % prev p1) - 1 \n",
    "\n",
    "/ Use prior\n",
    "\\t:10000 prior[{(x%y)-1};p1]"
   ]
  },
  {
   "cell_type": "code",
   "execution_count": 34,
   "id": "991e2810",
   "metadata": {},
   "outputs": [
    {
     "data": {
      "text/plain": [
       "8\n"
      ]
     },
     "execution_count": 34,
     "metadata": {},
     "output_type": "execute_result"
    }
   ],
   "source": [
    "/ Use deltas method\n",
    "\n",
    "\\t:10000 (deltas p1) % prev p1\n"
   ]
  },
  {
   "cell_type": "markdown",
   "id": "2116ac21",
   "metadata": {},
   "source": [
    "**Prev method is better than others**\n",
    "\n",
    "### Let's create a sample table"
   ]
  },
  {
   "cell_type": "code",
   "execution_count": 35,
   "id": "acd2ad01",
   "metadata": {},
   "outputs": [
    {
     "data": {
      "text/plain": [
       "AAPL     META     AAPL_CHANGES  META_CHANGES date   \n",
       "----------------------------------------------------\n",
       "81.36647 87.39223 -0.03161846   -0.08405665  2023.02\n",
       "91.97833 82.35071 0.1304206     -0.05768841  2023.03\n",
       "80.97635 98.46877 -0.119615     0.1957246    2023.04\n",
       "98.01398 88.03187 0.2104026     -0.105992    2023.05\n",
       "97.01182 91.23807 -0.01022471   0.03642093   2023.06\n",
       "96.39203 94.49896 -0.006388803  0.0357404    2023.07\n",
       "81.99653 96.22405 -0.1493432    0.01825515   2023.08\n",
       "96.37541 84.17323 0.1753596     -0.1252371   2023.09\n",
       "93.01393 99.81423 -0.03487907   0.1858192    2023.10\n",
       "80.69844 91.5896  -0.1324048    -0.08239936  2023.11\n",
       "80.65677 98.05943 -0.0005163842 0.07063929   2023.12\n"
      ]
     },
     "execution_count": 35,
     "metadata": {},
     "output_type": "execute_result"
    }
   ],
   "source": [
    "/ Create table \n",
    "t: ([] AAPL: 80+12?20.0;META:80+12?20.0)\n",
    "\n",
    "\n",
    "/update the CHANGES columns\n",
    "update AAPL_CHANGES:(AAPL % prev AAPL)-1, META_CHANGES:(META % prev META)-1 from `t;\n",
    "\n",
    "/update the date sake of date columns\n",
    "update date:2023.01m+til 12 from `t;\n",
    "\n",
    "/remove the first row\n",
    "t : 1_t;\n",
    "\n",
    "t"
   ]
  },
  {
   "cell_type": "code",
   "execution_count": 36,
   "id": "060e19fd",
   "metadata": {},
   "outputs": [],
   "source": [
    "/ Get the changes column only and save it in tv view\n",
    "\n",
    "tv:: select AAPL_CHANGES, META_CHANGES from t"
   ]
  },
  {
   "cell_type": "code",
   "execution_count": 37,
   "id": "cde2eb41",
   "metadata": {},
   "outputs": [
    {
     "data": {
      "text/plain": [
       "AAPL_CHANGES| -0.04006501\n",
       "META_CHANGES| 0.02774447\n"
      ]
     },
     "execution_count": 37,
     "metadata": {},
     "output_type": "execute_result"
    }
   ],
   "source": [
    "/ Annual returns in percentage\n",
    "/based on the formula\n",
    "\n",
    "(prd tv+1)-1"
   ]
  },
  {
   "cell_type": "code",
   "execution_count": 38,
   "id": "51bcdd8d",
   "metadata": {},
   "outputs": [
    {
     "data": {
      "text/plain": [
       "0.02774447\n"
      ]
     },
     "execution_count": 38,
     "metadata": {},
     "output_type": "execute_result"
    }
   ],
   "source": [
    "/ Annual return of meta\n",
    "\n",
    "(prd(1+t`META_CHANGES))-1"
   ]
  },
  {
   "cell_type": "markdown",
   "id": "d90831d8",
   "metadata": {},
   "source": [
    "**So, the compounded annual return is 2.77%**"
   ]
  },
  {
   "cell_type": "code",
   "execution_count": null,
   "id": "1e38e205",
   "metadata": {},
   "outputs": [],
   "source": []
  },
  {
   "cell_type": "code",
   "execution_count": null,
   "id": "e2f5a0e1",
   "metadata": {},
   "outputs": [],
   "source": []
  },
  {
   "cell_type": "markdown",
   "id": "2acc93a8",
   "metadata": {},
   "source": [
    "# Volatility\n",
    "\n",
    "`Volatility denotes fluctuation that happens in prices changes. `\n",
    "\n",
    "`In statistics it's closely related to standard(Population) deviation.`"
   ]
  },
  {
   "cell_type": "code",
   "execution_count": 39,
   "id": "e23af935",
   "metadata": {},
   "outputs": [
    {
     "data": {
      "text/plain": [
       "BLUE   ORANGE \n",
       "--------------\n",
       "8.7    10.66  \n",
       "8.9055 11.0828\n",
       "8.7113 10.71  \n",
       "8.4346 11.5907\n",
       "8.7254 12.107 \n"
      ]
     },
     "execution_count": 39,
     "metadata": {},
     "output_type": "execute_result"
    }
   ],
   "source": [
    "t: (\"FF\";enlist csv)0: read0 `:./data/sample_prices.csv\n",
    "5#t"
   ]
  },
  {
   "cell_type": "code",
   "execution_count": 40,
   "id": "c5678625",
   "metadata": {},
   "outputs": [
    {
     "data": {
      "text/plain": [
       "BLUE  | 0.3784187\n",
       "ORANGE| 1.010706\n"
      ]
     },
     "execution_count": 40,
     "metadata": {},
     "output_type": "execute_result"
    }
   ],
   "source": [
    "/ Find the population standard deviation\n",
    "\n",
    "dev each flip t"
   ]
  },
  {
   "cell_type": "code",
   "execution_count": 41,
   "id": "f53a507b",
   "metadata": {},
   "outputs": [
    {
     "data": {
      "text/plain": [
       "BLUE        ORANGE     \n",
       "-----------------------\n",
       "0.02362069  0.03966229 \n",
       "-0.02180675 -0.03363771\n",
       "-0.03176334 0.08223156 \n",
       "0.03447704  0.04454433 \n",
       "0.03778623  -0.02638143\n",
       "-0.01145211 -0.04918728\n",
       "0.03267645  0.1170078  \n",
       "-0.01258127 0.06735255 \n",
       "0.02958061  0.07824942 \n",
       "0.006150507 -0.1682607 \n",
       "0.01216236  0.02404099 \n",
       "0.02114854  -0.05562346\n"
      ]
     },
     "execution_count": 41,
     "metadata": {},
     "output_type": "execute_result"
    }
   ],
   "source": [
    "/ Find the returns over period\n",
    "\n",
    "update BLUE:(BLUE % prev BLUE)-1, ORANGE:(ORANGE % prev ORANGE)-1 from `t;\n",
    "delete from `t where i =0;\n",
    "t"
   ]
  },
  {
   "cell_type": "code",
   "execution_count": 42,
   "id": "20c26793",
   "metadata": {},
   "outputs": [
    {
     "data": {
      "text/plain": [
       "BLUE  | 0.02295663\n",
       "ORANGE| 0.07621241\n"
      ]
     },
     "execution_count": 42,
     "metadata": {},
     "output_type": "execute_result"
    }
   ],
   "source": [
    "/ Lets compute the standard deviation\n",
    "\n",
    "(dev each flip t)"
   ]
  },
  {
   "cell_type": "code",
   "execution_count": 43,
   "id": "1d5ee5e9",
   "metadata": {},
   "outputs": [
    {
     "data": {
      "text/plain": [
       "0.02295663\n"
      ]
     },
     "execution_count": 43,
     "metadata": {},
     "output_type": "execute_result"
    }
   ],
   "source": [
    "/ with formula\n",
    "\n",
    "avrg: avg t`BLUE\n",
    "\n",
    "sqrt avg (((t`BLUE) - avrg) xexp 2)"
   ]
  },
  {
   "cell_type": "code",
   "execution_count": 44,
   "id": "b301110f",
   "metadata": {},
   "outputs": [
    {
     "data": {
      "text/plain": [
       "BLUE  | 0.0795241\n",
       "ORANGE| 0.2640075\n"
      ]
     },
     "execution_count": 44,
     "metadata": {},
     "output_type": "execute_result"
    }
   ],
   "source": [
    "/ Compute the annualize volatility\n",
    "\n",
    "(dev each flip t)*sqrt(12)"
   ]
  },
  {
   "cell_type": "markdown",
   "id": "27e049fa",
   "metadata": {},
   "source": [
    "# Risk Adjusted Returns"
   ]
  },
  {
   "cell_type": "code",
   "execution_count": 58,
   "id": "3b072041",
   "metadata": {},
   "outputs": [
    {
     "data": {
      "text/plain": [
       "x      <= 0   Lo 30 Med 40 Hi 30 Lo 20 Qnt 2 Qnt 3 Qnt 4 Hi 20 Lo 10 Dec 2 De..\n",
       "-----------------------------------------------------------------------------..\n",
       "192607 -99.99 -0.43 1.52   2.68  -0.57 0.59  1.6   1.47  3.33  -1.45 0.29  -0..\n",
       "192608 -99.99 3.9   3.04   2.09  3.84  3.59  3.71  1.61  2.33  5.12  2.59  4...\n",
       "192609 -99.99 -1.08 -0.54  0.16  -0.48 -1.4  0     -0.5  -0.09 0.93  -1.87 -2..\n",
       "192610 -99.99 -3.32 -3.52  -3.06 -3.29 -4.1  -2.89 -3.36 -2.95 -4.84 -1.77 -3..\n",
       "192611 -99.99 -0.46 3.82   3.09  -0.55 2.18  3.41  3.39  3.16  -0.78 -0.32 -0..\n"
      ]
     },
     "execution_count": 58,
     "metadata": {},
     "output_type": "execute_result"
    }
   ],
   "source": [
    "/ Read the csv from source\n",
    "\n",
    "returns : (\"J\",19#\"F\";enlist csv)0: `:./data/Portfolios_Formed_on_ME_monthly_EW.csv\n",
    "\n",
    "/return header 5 rows\n",
    "\n",
    "5#returns"
   ]
  },
  {
   "cell_type": "code",
   "execution_count": 59,
   "id": "bb31c3eb",
   "metadata": {},
   "outputs": [
    {
     "data": {
      "text/plain": [
       "x      <=0    Lo30  Med40 Hi30  Lo20  Qnt2 Qnt3  Qnt4  Hi20  Lo10  Dec2  Dec3..\n",
       "-----------------------------------------------------------------------------..\n",
       "192607 -99.99 -0.43 1.52  2.68  -0.57 0.59 1.6   1.47  3.33  -1.45 0.29  -0.1..\n",
       "192608 -99.99 3.9   3.04  2.09  3.84  3.59 3.71  1.61  2.33  5.12  2.59  4.03..\n",
       "192609 -99.99 -1.08 -0.54 0.16  -0.48 -1.4 0     -0.5  -0.09 0.93  -1.87 -2.2..\n",
       "192610 -99.99 -3.32 -3.52 -3.06 -3.29 -4.1 -2.89 -3.36 -2.95 -4.84 -1.77 -3.3..\n",
       "192611 -99.99 -0.46 3.82  3.09  -0.55 2.18 3.41  3.39  3.16  -0.78 -0.32 -0.2..\n"
      ]
     },
     "execution_count": 59,
     "metadata": {},
     "output_type": "execute_result"
    }
   ],
   "source": [
    "/ Chenge the columns name. Kdb doesn't recognize the column name with space\n",
    "\n",
    "returns : (`$ ssr[;\" \";\"\"] each string cols returns) xcol returns\n",
    "5#returns"
   ]
  },
  {
   "cell_type": "code",
   "execution_count": 60,
   "id": "1a9cfb3a",
   "metadata": {},
   "outputs": [],
   "source": [
    "/ Focus on Lo10 and Hi10 columns\n",
    "\n",
    "returns: select Lo10, Hi10 from returns"
   ]
  },
  {
   "cell_type": "code",
   "execution_count": 61,
   "id": "f21643a6",
   "metadata": {},
   "outputs": [],
   "source": [
    "/ Devide the values with 100\n",
    "\n",
    "returns : returns%100"
   ]
  },
  {
   "cell_type": "code",
   "execution_count": 62,
   "id": "692c2ab2",
   "metadata": {},
   "outputs": [],
   "source": [
    "/ Rename Lo10 as SmallCap and Hi10 as Largecap\n",
    "\n",
    "returns : `SmallCap`LargeCap xcol returns "
   ]
  },
  {
   "cell_type": "code",
   "execution_count": 63,
   "id": "feb67c11",
   "metadata": {},
   "outputs": [
    {
     "data": {
      "text/plain": [
       "SmallCap LargeCap\n",
       "-----------------\n",
       "-0.0145  0.0329  \n",
       "0.0512   0.037   \n",
       "0.0093   0.0067  \n",
       "-0.0484  -0.0243 \n",
       "-0.0078  0.027   \n",
       "-0.0266  0.0301  \n",
       "0.0453   -0.0043 \n",
       "0.0685   0.0365  \n",
       "-0.0591  0.0085  \n",
       "0.0467   0.009   \n",
       "0.0531   0.0525  \n",
       "-0.0201  -0.0214 \n",
       "0.0804   0.0785  \n",
       "-0.0088  0.0171  \n",
       "-0.0071  0.0534  \n",
       "-0.0555  -0.0376 \n",
       "0.2242   0.0656  \n",
       "0.0449   0.0073  \n",
       "0.1679   -0.0116 \n",
       "-0.0155  -0.0122 \n",
       "..\n"
      ]
     },
     "execution_count": 63,
     "metadata": {},
     "output_type": "execute_result"
    }
   ],
   "source": [
    "returns"
   ]
  },
  {
   "cell_type": "code",
   "execution_count": 64,
   "id": "96e70493",
   "metadata": {},
   "outputs": [
    {
     "data": {
      "text/plain": [
       "SmallCap| 0.3680272\n",
       "LargeCap| 0.1866319\n"
      ]
     },
     "execution_count": 64,
     "metadata": {},
     "output_type": "execute_result"
    }
   ],
   "source": [
    "/Annualize volatility\n",
    "\n",
    "annualized_vol: (dev each flip returns)*sqrt(12)\n",
    "annualized_vol"
   ]
  },
  {
   "cell_type": "code",
   "execution_count": 65,
   "id": "7650c24c",
   "metadata": {},
   "outputs": [
    {
     "data": {
      "text/plain": [
       "SmallCap| 0.01298637\n",
       "LargeCap| 0.007423424\n"
      ]
     },
     "execution_count": 65,
     "metadata": {},
     "output_type": "execute_result"
    }
   ],
   "source": [
    "/ Annualize returns per month\n",
    "\n",
    "((prd(returns + 1)) xexp (1%count returns))-1"
   ]
  },
  {
   "cell_type": "code",
   "execution_count": 66,
   "id": "16b46135",
   "metadata": {},
   "outputs": [
    {
     "data": {
      "text/plain": [
       "SmallCap| 0.1674633\n",
       "LargeCap| 0.09280968\n"
      ]
     },
     "execution_count": 66,
     "metadata": {},
     "output_type": "execute_result"
    }
   ],
   "source": [
    "\n",
    "/ Annualize returns\n",
    "\n",
    "annualized_return: ((prd(returns + 1)) xexp (12%count returns))-1\n",
    "annualized_return"
   ]
  },
  {
   "cell_type": "code",
   "execution_count": 67,
   "id": "42eacb3d",
   "metadata": {},
   "outputs": [
    {
     "data": {
      "text/plain": [
       "SmallCap| 0.373514\n",
       "LargeCap| 0.3365432\n"
      ]
     },
     "execution_count": 67,
     "metadata": {},
     "output_type": "execute_result"
    }
   ],
   "source": [
    "/ Find the sharpe ratio\n",
    "\n",
    "/ sharpe ratio is adjusted return with risk free rate and volatility\n",
    "\n",
    "riskfree_rate : 0.03\n",
    "excess_return : annualized_return - riskfree_rate\n",
    "sharpe_ratio : excess_return%annualized_vol\n",
    "sharpe_ratio"
   ]
  },
  {
   "cell_type": "code",
   "execution_count": null,
   "id": "3d6c6abd",
   "metadata": {},
   "outputs": [],
   "source": []
  },
  {
   "cell_type": "code",
   "execution_count": null,
   "id": "c039f926",
   "metadata": {},
   "outputs": [],
   "source": []
  },
  {
   "cell_type": "code",
   "execution_count": null,
   "id": "1ade9ddc",
   "metadata": {},
   "outputs": [],
   "source": []
  }
 ],
 "metadata": {
  "kernelspec": {
   "display_name": "Q (kdb+)",
   "language": "q",
   "name": "qpk"
  },
  "language_info": {
   "file_extension": ".q",
   "mimetype": "text/x-q",
   "name": "q",
   "version": "4.0"
  }
 },
 "nbformat": 4,
 "nbformat_minor": 5
}
