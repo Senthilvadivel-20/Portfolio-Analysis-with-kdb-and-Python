{
 "cells": [
  {
   "cell_type": "markdown",
   "id": "78014739",
   "metadata": {},
   "source": [
    "# Price returns in Python"
   ]
  },
  {
   "cell_type": "code",
   "execution_count": 2,
   "id": "d96850c0",
   "metadata": {},
   "outputs": [],
   "source": [
    "import pandas as pd\n",
    "import numpy as np"
   ]
  },
  {
   "cell_type": "code",
   "execution_count": 35,
   "id": "5e815527",
   "metadata": {},
   "outputs": [],
   "source": [
    "# Create random numbers as price\n",
    "\n",
    "p1 = 80 + 10* np.random.random_sample((10))\n",
    "p2 =  80 + 10* np.random.random_sample((10))"
   ]
  },
  {
   "cell_type": "code",
   "execution_count": 45,
   "id": "a6b9696b",
   "metadata": {},
   "outputs": [
    {
     "data": {
      "text/plain": [
       "array([-0.00970735,  0.06623289, -0.06072118,  0.08005466, -0.03196096,\n",
       "       -0.00201735, -0.03830554,  0.09131532, -0.00247604])"
      ]
     },
     "execution_count": 45,
     "metadata": {},
     "output_type": "execute_result"
    }
   ],
   "source": [
    "# price return percentage\n",
    "\n",
    "p1[1:] / p1[:-1] -1"
   ]
  },
  {
   "cell_type": "code",
   "execution_count": 56,
   "id": "f2d97154",
   "metadata": {},
   "outputs": [
    {
     "data": {
      "text/html": [
       "<div>\n",
       "<style scoped>\n",
       "    .dataframe tbody tr th:only-of-type {\n",
       "        vertical-align: middle;\n",
       "    }\n",
       "\n",
       "    .dataframe tbody tr th {\n",
       "        vertical-align: top;\n",
       "    }\n",
       "\n",
       "    .dataframe thead th {\n",
       "        text-align: right;\n",
       "    }\n",
       "</style>\n",
       "<table border=\"1\" class=\"dataframe\">\n",
       "  <thead>\n",
       "    <tr style=\"text-align: right;\">\n",
       "      <th></th>\n",
       "      <th>date</th>\n",
       "      <th>AAPL</th>\n",
       "      <th>META</th>\n",
       "    </tr>\n",
       "  </thead>\n",
       "  <tbody>\n",
       "    <tr>\n",
       "      <th>0</th>\n",
       "      <td>2024-10-02</td>\n",
       "      <td>82.374940</td>\n",
       "      <td>88.137398</td>\n",
       "    </tr>\n",
       "    <tr>\n",
       "      <th>1</th>\n",
       "      <td>2024-10-03</td>\n",
       "      <td>81.575298</td>\n",
       "      <td>84.821970</td>\n",
       "    </tr>\n",
       "    <tr>\n",
       "      <th>2</th>\n",
       "      <td>2024-10-04</td>\n",
       "      <td>86.978266</td>\n",
       "      <td>85.216828</td>\n",
       "    </tr>\n",
       "    <tr>\n",
       "      <th>3</th>\n",
       "      <td>2024-10-05</td>\n",
       "      <td>81.696843</td>\n",
       "      <td>88.440488</td>\n",
       "    </tr>\n",
       "    <tr>\n",
       "      <th>4</th>\n",
       "      <td>2024-10-06</td>\n",
       "      <td>88.237055</td>\n",
       "      <td>83.834198</td>\n",
       "    </tr>\n",
       "    <tr>\n",
       "      <th>5</th>\n",
       "      <td>2024-10-07</td>\n",
       "      <td>85.416914</td>\n",
       "      <td>81.099292</td>\n",
       "    </tr>\n",
       "    <tr>\n",
       "      <th>6</th>\n",
       "      <td>2024-10-08</td>\n",
       "      <td>85.244598</td>\n",
       "      <td>89.014184</td>\n",
       "    </tr>\n",
       "    <tr>\n",
       "      <th>7</th>\n",
       "      <td>2024-10-09</td>\n",
       "      <td>81.979258</td>\n",
       "      <td>83.201271</td>\n",
       "    </tr>\n",
       "    <tr>\n",
       "      <th>8</th>\n",
       "      <td>2024-10-10</td>\n",
       "      <td>89.465220</td>\n",
       "      <td>89.013078</td>\n",
       "    </tr>\n",
       "    <tr>\n",
       "      <th>9</th>\n",
       "      <td>2024-10-11</td>\n",
       "      <td>89.243701</td>\n",
       "      <td>83.177407</td>\n",
       "    </tr>\n",
       "  </tbody>\n",
       "</table>\n",
       "</div>"
      ],
      "text/plain": [
       "        date       AAPL       META\n",
       "0 2024-10-02  82.374940  88.137398\n",
       "1 2024-10-03  81.575298  84.821970\n",
       "2 2024-10-04  86.978266  85.216828\n",
       "3 2024-10-05  81.696843  88.440488\n",
       "4 2024-10-06  88.237055  83.834198\n",
       "5 2024-10-07  85.416914  81.099292\n",
       "6 2024-10-08  85.244598  89.014184\n",
       "7 2024-10-09  81.979258  83.201271\n",
       "8 2024-10-10  89.465220  89.013078\n",
       "9 2024-10-11  89.243701  83.177407"
      ]
     },
     "execution_count": 56,
     "metadata": {},
     "output_type": "execute_result"
    }
   ],
   "source": [
    "# let's create a data frame\n",
    "\n",
    "date = np.datetime64(\"2024-10-02\")\n",
    "\n",
    "date = np.arange(0,10) + date\n",
    "\n",
    "df = pd.DataFrame({'date':date,'AAPL':p1, \"META\":p2})\n",
    "df"
   ]
  },
  {
   "cell_type": "code",
   "execution_count": 67,
   "id": "84cc4bdd",
   "metadata": {},
   "outputs": [],
   "source": [
    "df[[\"AAPL_CHANGEs\",\"META_CHANGES\"]] = df.iloc[:,1:].pct_change()"
   ]
  },
  {
   "cell_type": "code",
   "execution_count": 70,
   "id": "c4bf4883",
   "metadata": {},
   "outputs": [
    {
     "data": {
      "text/html": [
       "<div>\n",
       "<style scoped>\n",
       "    .dataframe tbody tr th:only-of-type {\n",
       "        vertical-align: middle;\n",
       "    }\n",
       "\n",
       "    .dataframe tbody tr th {\n",
       "        vertical-align: top;\n",
       "    }\n",
       "\n",
       "    .dataframe thead th {\n",
       "        text-align: right;\n",
       "    }\n",
       "</style>\n",
       "<table border=\"1\" class=\"dataframe\">\n",
       "  <thead>\n",
       "    <tr style=\"text-align: right;\">\n",
       "      <th></th>\n",
       "      <th>date</th>\n",
       "      <th>AAPL</th>\n",
       "      <th>META</th>\n",
       "      <th>AAPL_CHANGEs</th>\n",
       "      <th>META_CHANGES</th>\n",
       "    </tr>\n",
       "  </thead>\n",
       "  <tbody>\n",
       "    <tr>\n",
       "      <th>1</th>\n",
       "      <td>2024-10-03</td>\n",
       "      <td>81.575298</td>\n",
       "      <td>84.821970</td>\n",
       "      <td>-0.009707</td>\n",
       "      <td>-0.037617</td>\n",
       "    </tr>\n",
       "    <tr>\n",
       "      <th>2</th>\n",
       "      <td>2024-10-04</td>\n",
       "      <td>86.978266</td>\n",
       "      <td>85.216828</td>\n",
       "      <td>0.066233</td>\n",
       "      <td>0.004655</td>\n",
       "    </tr>\n",
       "    <tr>\n",
       "      <th>3</th>\n",
       "      <td>2024-10-05</td>\n",
       "      <td>81.696843</td>\n",
       "      <td>88.440488</td>\n",
       "      <td>-0.060721</td>\n",
       "      <td>0.037829</td>\n",
       "    </tr>\n",
       "    <tr>\n",
       "      <th>4</th>\n",
       "      <td>2024-10-06</td>\n",
       "      <td>88.237055</td>\n",
       "      <td>83.834198</td>\n",
       "      <td>0.080055</td>\n",
       "      <td>-0.052084</td>\n",
       "    </tr>\n",
       "    <tr>\n",
       "      <th>5</th>\n",
       "      <td>2024-10-07</td>\n",
       "      <td>85.416914</td>\n",
       "      <td>81.099292</td>\n",
       "      <td>-0.031961</td>\n",
       "      <td>-0.032623</td>\n",
       "    </tr>\n",
       "    <tr>\n",
       "      <th>6</th>\n",
       "      <td>2024-10-08</td>\n",
       "      <td>85.244598</td>\n",
       "      <td>89.014184</td>\n",
       "      <td>-0.002017</td>\n",
       "      <td>0.097595</td>\n",
       "    </tr>\n",
       "    <tr>\n",
       "      <th>7</th>\n",
       "      <td>2024-10-09</td>\n",
       "      <td>81.979258</td>\n",
       "      <td>83.201271</td>\n",
       "      <td>-0.038306</td>\n",
       "      <td>-0.065303</td>\n",
       "    </tr>\n",
       "    <tr>\n",
       "      <th>8</th>\n",
       "      <td>2024-10-10</td>\n",
       "      <td>89.465220</td>\n",
       "      <td>89.013078</td>\n",
       "      <td>0.091315</td>\n",
       "      <td>0.069852</td>\n",
       "    </tr>\n",
       "    <tr>\n",
       "      <th>9</th>\n",
       "      <td>2024-10-11</td>\n",
       "      <td>89.243701</td>\n",
       "      <td>83.177407</td>\n",
       "      <td>-0.002476</td>\n",
       "      <td>-0.065560</td>\n",
       "    </tr>\n",
       "  </tbody>\n",
       "</table>\n",
       "</div>"
      ],
      "text/plain": [
       "        date       AAPL       META  AAPL_CHANGEs  META_CHANGES\n",
       "1 2024-10-03  81.575298  84.821970     -0.009707     -0.037617\n",
       "2 2024-10-04  86.978266  85.216828      0.066233      0.004655\n",
       "3 2024-10-05  81.696843  88.440488     -0.060721      0.037829\n",
       "4 2024-10-06  88.237055  83.834198      0.080055     -0.052084\n",
       "5 2024-10-07  85.416914  81.099292     -0.031961     -0.032623\n",
       "6 2024-10-08  85.244598  89.014184     -0.002017      0.097595\n",
       "7 2024-10-09  81.979258  83.201271     -0.038306     -0.065303\n",
       "8 2024-10-10  89.465220  89.013078      0.091315      0.069852\n",
       "9 2024-10-11  89.243701  83.177407     -0.002476     -0.065560"
      ]
     },
     "execution_count": 70,
     "metadata": {},
     "output_type": "execute_result"
    }
   ],
   "source": [
    "df.iloc[1:]"
   ]
  },
  {
   "cell_type": "code",
   "execution_count": 75,
   "id": "de632960",
   "metadata": {},
   "outputs": [],
   "source": [
    "df = df.rename(columns={'AAPL_CHANGEs':'AAPL_CHANGES'})"
   ]
  },
  {
   "cell_type": "code",
   "execution_count": 77,
   "id": "465c206c",
   "metadata": {},
   "outputs": [
    {
     "data": {
      "text/plain": [
       "Index(['date', 'AAPL', 'META', 'AAPL_CHANGES', 'META_CHANGES'], dtype='object')"
      ]
     },
     "execution_count": 77,
     "metadata": {},
     "output_type": "execute_result"
    }
   ],
   "source": [
    "df.columns"
   ]
  },
  {
   "cell_type": "code",
   "execution_count": 83,
   "id": "bc4ef714",
   "metadata": {},
   "outputs": [
    {
     "data": {
      "text/plain": [
       "<AxesSubplot:>"
      ]
     },
     "execution_count": 83,
     "metadata": {},
     "output_type": "execute_result"
    },
    {
     "data": {
      "image/png": "[encoded data removed]",
      "text/plain": [
       "<Figure size 432x288 with 1 Axes>"
      ]
     },
     "metadata": {
      "needs_background": "light"
     },
     "output_type": "display_data"
    }
   ],
   "source": [
    "df[['AAPL_CHANGES',\"META_CHANGES\"]].plot.bar()"
   ]
  },
  {
   "cell_type": "code",
   "execution_count": 88,
   "id": "f7860fa2",
   "metadata": {},
   "outputs": [
    {
     "data": {
      "text/plain": [
       "AAPL_CHANGES    8.338410\n",
       "META_CHANGES   -5.627566\n",
       "dtype: float64"
      ]
     },
     "execution_count": 88,
     "metadata": {},
     "output_type": "execute_result"
    }
   ],
   "source": [
    "# Compounting returns aka Annual return\n",
    "\n",
    "((df[['AAPL_CHANGES',\"META_CHANGES\"]] + 1).prod() -1) * 100"
   ]
  },
  {
   "cell_type": "code",
   "execution_count": null,
   "id": "3bbb15c7",
   "metadata": {},
   "outputs": [],
   "source": []
  }
 ],
 "metadata": {
  "kernelspec": {
   "display_name": "Python 3",
   "language": "python",
   "name": "python3"
  },
  "language_info": {
   "codemirror_mode": {
    "name": "ipython",
    "version": 3
   },
   "file_extension": ".py",
   "mimetype": "text/x-python",
   "name": "python",
   "nbconvert_exporter": "python",
   "pygments_lexer": "ipython3",
   "version": "3.6.13"
  }
 },
 "nbformat": 4,
 "nbformat_minor": 5
}
